{
  "nbformat": 4,
  "nbformat_minor": 0,
  "metadata": {
    "colab": {
      "name": "Untitled3.ipynb",
      "provenance": []
    },
    "kernelspec": {
      "name": "python3",
      "display_name": "Python 3"
    },
    "accelerator": "GPU"
  },
  "cells": [
    {
      "cell_type": "code",
      "metadata": {
        "id": "bSr5EdVbD6uf",
        "outputId": "c5a2581c-1af9-445c-eed9-6dbe18aa0120",
        "colab": {
          "base_uri": "https://localhost:8080/",
          "height": 52
        }
      },
      "source": [
        "%tensorflow_version 2.x\n",
        "import tensorflow as tf\n",
        "print(tf.__version__)\n",
        "\n",
        "\n",
        "# file paths\n",
        "PATH = \"/content/drive/My Drive/\"\n",
        "file_path = \"/content/drive/My Drive/Mcovers2.zip\"\n",
        "csv_path = \"Dataset.csv\"\n",
        "cover_path = \"/content/Mcovers2/\"\n",
        "\n",
        "# constants\n",
        "val_ratio = 0.1\n",
        "test_ratio = 0.2\n",
        "BUFFER_SIZE = 1000\n",
        "BATCH_SIZE = 32\n",
        "steps_train = (50000*0.7) // BATCH_SIZE\n",
        "steps_val = (50000*0.1) // BATCH_SIZE\n",
        "steps_test = (50000*0.2) // BATCH_SIZE\n",
        "IMG_DIM = (224, 224, 3)\n",
        "outdim_size = 15\n",
        "vocab_size = 24814\n",
        "\n",
        "# tfrecord file name for train, test and val\n",
        "tfrecord_path = [\"train_data.tfrecord\", \"val_data.tfrecord\", \"test_data.tfrecord\"]\n",
        "\n",
        "# unzip files\n",
        "def unzip_data(file_path):\n",
        "  from zipfile import ZipFile\n",
        "  with ZipFile(file_path, \"r\") as zip:\n",
        "    zip.extractall()\n",
        "    return \"Data has been extracted\"\n",
        "\n",
        "unzip_data(file_path)"
      ],
      "execution_count": null,
      "outputs": [
        {
          "output_type": "stream",
          "text": [
            "2.3.0\n"
          ],
          "name": "stdout"
        },
        {
          "output_type": "execute_result",
          "data": {
            "application/vnd.google.colaboratory.intrinsic+json": {
              "type": "string"
            },
            "text/plain": [
              "'Data has been extracted'"
            ]
          },
          "metadata": {
            "tags": []
          },
          "execution_count": 1
        }
      ]
    },
    {
      "cell_type": "code",
      "metadata": {
        "id": "7z0Gi5GBL23B"
      },
      "source": [
        "import numpy as np\n",
        "import pandas as pd\n",
        "from sklearn.model_selection import train_test_split\n",
        "\n",
        "def load_csv():\n",
        "    \"\"\" load the data from csv file and split those into train, validation and test parts \"\"\"\n",
        "    df = pd.read_csv(csv_path, header = 0, index_col = 0, encoding='latin1')\n",
        "    # split the data into train, validation and test\n",
        "    train_data, val_data = train_test_split(df, test_size=(test_ratio+val_ratio), random_state=21)\n",
        "    val_data, test_data = train_test_split(val_data, test_size=test_ratio/(test_ratio+val_ratio), random_state=21)\n",
        "    return train_data, val_data, test_data\n",
        "\n",
        "\n",
        "def _bytes_feature(value):\n",
        "  \"\"\"Returns a bytes_list from a string / byte.\"\"\"\n",
        "  if isinstance(value, type(tf.constant(0))):\n",
        "    value = value.numpy() # BytesList won't unpack a string from an EagerTensor.\n",
        "  return tf.train.Feature(bytes_list=tf.train.BytesList(value=[value]))\n",
        "\n",
        "def make_example(image_string, label):\n",
        "    feature = {\n",
        "        'image_string': _bytes_feature(image_string),\n",
        "        'label': tf.train.Feature(int64_list=tf.train.Int64List(value=[label])),\n",
        "    }\n",
        "    return tf.train.Example(features=tf.train.Features(feature=feature))\n",
        "\n",
        "def write_tfrecord(data, tfrecord_path):\n",
        "    with tf.io.TFRecordWriter(tfrecord_path) as writer:\n",
        "        for _,row in data.iterrows():\n",
        "            img_file = cover_path+str(row[\"id\"])+'.jpg'\n",
        "            label = row[\"cat_id\"]\n",
        "            image_string = open(img_file, 'rb').read()\n",
        "            example = make_example(image_string, label)  \n",
        "            writer.write(example.SerializeToString())   \n",
        "\n",
        "\n",
        "# healper functions for reading tfrecord data \n",
        "feature_description = {\n",
        "    'image_string': tf.io.FixedLenFeature([], tf.string),\n",
        "    'label': tf.io.FixedLenFeature([], tf.int64),\n",
        "}\n",
        "\n",
        "def parser(proto):\n",
        "    parsed_features = tf.io.parse_single_example(proto, feature_description)\n",
        "    image = parsed_features['image_string']\n",
        "    image = tf.image.decode_jpeg(image)\n",
        "    image = tf.image.convert_image_dtype(image, tf.float32)\n",
        "    image = tf.image.resize(image, [IMG_DIM[0], IMG_DIM[1]])\n",
        "    label = parsed_features['label']\n",
        "    return image, label\n",
        "\n",
        "def get_dataset(tfrecord_path):\n",
        "    dataset = tf.data.TFRecordDataset(tfrecord_path)\n",
        "    dataset = dataset.map(parser, num_parallel_calls=tf.data.experimental.AUTOTUNE)\n",
        "    dataset = dataset.shuffle(BUFFER_SIZE)\n",
        "    dataset = dataset.batch(BATCH_SIZE, drop_remainder=True)\n",
        "    #dataset = dataset.cache()\n",
        "    dataset = dataset.prefetch(tf.data.experimental.AUTOTUNE)\n",
        "    return dataset\n",
        "\n",
        "def load_data(first_time=True):\n",
        "    if first_time:\n",
        "        data = load_csv()\n",
        "        for i in range(3):\n",
        "           write_tfrecord(data[i], tfrecord_path[i])\n",
        "\n",
        "    # load the dataset    \n",
        "    dataset = []   \n",
        "    for i in range(3):\n",
        "        data = get_dataset(tfrecord_path[i])\n",
        "        dataset.append(data)\n",
        "    return dataset"
      ],
      "execution_count": null,
      "outputs": []
    },
    {
      "cell_type": "code",
      "metadata": {
        "id": "QiuDDVW3NQFG"
      },
      "source": [
        "train_data, val_data, test_data = load_data(True)"
      ],
      "execution_count": null,
      "outputs": []
    },
    {
      "cell_type": "code",
      "metadata": {
        "id": "P7BJMnXnNS0S"
      },
      "source": [
        "import matplotlib.pyplot as plt\n",
        "\n",
        "def train_model(model, epoch_num, verbose=1):\n",
        "\n",
        "    earlystop = callbacks.EarlyStopping(monitor='val_accuracy', min_delta=0.001, patience=1)\n",
        "    checkpointer = callbacks.ModelCheckpoint(filepath=\"temp_weights.h5\", verbose=1, save_best_only=True, save_weights_only=True)\n",
        "  \n",
        "    history = model.fit(train_data.repeat(),\n",
        "                        steps_per_epoch = steps_train,\n",
        "                        epochs = epoch_num,\n",
        "                        validation_data= val_data.repeat(),\n",
        "                        validation_steps = steps_val,\n",
        "                        use_multiprocessing=True,\n",
        "                        verbose=verbose,\n",
        "                        callbacks=[checkpointer, earlystop])\n",
        "\n",
        "\n",
        "    plt.plot(history.history['loss'])\n",
        "    plt.plot(history.history['val_loss'])\n",
        "    plt.title('model loss')\n",
        "    plt.ylabel('loss')\n",
        "    plt.xlabel('epoch')\n",
        "    plt.legend(['train', 'test'], loc='upper left')\n",
        "    plt.show()\n",
        "\n",
        "\n",
        "    model.load_weights(\"temp_weights.h5\")\n",
        "    results = model.evaluate(val_data, use_multiprocessing=True, verbose=1)\n",
        "    results = dict(zip(model.metrics_names, results))\n",
        "    print('Result on validation data: ', results)\n",
        "\n",
        "    results = model.evaluate(test_data, use_multiprocessing=True, verbose=1)\n",
        "    results = dict(zip(model.metrics_names, results))\n",
        "    print('Result on test data: ', results)\n",
        "\n",
        "\n",
        "\n",
        "    return model"
      ],
      "execution_count": null,
      "outputs": []
    },
    {
      "cell_type": "code",
      "metadata": {
        "id": "tCEn83_hNfyx"
      },
      "source": [
        "import tensorflow_hub as hub\n",
        "from tensorflow.keras import layers, applications, models, optimizers, losses, regularizers, callbacks, metrics\n",
        "\n",
        "def get_model_name(base_model):\n",
        "    model_name = base_model.split(\"/\")\n",
        "    return model_name[5].capitalize()\n",
        "\n",
        "def create_model_hub(base_model, lr=0.001):         \n",
        "    model = tf.keras.Sequential([\n",
        "        hub.KerasLayer(base_model, trainable=False),\n",
        "        #layers.Dense(1024, activation='relu'),\n",
        "        layers.Dense(512, activation='relu'),\n",
        "        layers.Dense(outdim_size, activation='softmax')\n",
        "    ])\n",
        "    model.build([None, IMG_DIM[0], IMG_DIM[1], IMG_DIM[2]])  # Batch input shape.\n",
        "\n",
        "    optimizer = optimizers.Adam(learning_rate=lr)\n",
        "    loss=losses.sparse_categorical_crossentropy\n",
        "    #metric = ['accuracy', metrics.SparseTopKCategoricalAccuracy(3)]\n",
        "    metric = ['accuracy', tf.keras.metrics.SparseTopKCategoricalAccuracy(3)]\n",
        "    model.compile(optimizer, loss, metric)\n",
        "\n",
        "    return model"
      ],
      "execution_count": null,
      "outputs": []
    },
    {
      "cell_type": "code",
      "metadata": {
        "id": "1QFnZzyvNioW",
        "outputId": "fda22788-aead-4fc3-cbee-9f1b314d3924",
        "colab": {
          "base_uri": "https://localhost:8080/",
          "height": 255
        }
      },
      "source": [
        "model = create_model_hub(\"https://tfhub.dev/google/imagenet/mobilenet_v1_075_224/feature_vector/4\", 0.0001)\n",
        "model.summary()"
      ],
      "execution_count": null,
      "outputs": [
        {
          "output_type": "stream",
          "text": [
            "Model: \"sequential\"\n",
            "_________________________________________________________________\n",
            "Layer (type)                 Output Shape              Param #   \n",
            "=================================================================\n",
            "keras_layer (KerasLayer)     (None, 768)               1832976   \n",
            "_________________________________________________________________\n",
            "dense (Dense)                (None, 2048)              1574912   \n",
            "_________________________________________________________________\n",
            "dense_1 (Dense)              (None, 15)                30735     \n",
            "=================================================================\n",
            "Total params: 3,438,623\n",
            "Trainable params: 1,605,647\n",
            "Non-trainable params: 1,832,976\n",
            "_________________________________________________________________\n"
          ],
          "name": "stdout"
        }
      ]
    },
    {
      "cell_type": "code",
      "metadata": {
        "id": "OvQ-pnFyNk_B",
        "outputId": "145c6269-0506-48e7-be2f-b6d1b83d2ae6",
        "colab": {
          "base_uri": "https://localhost:8080/",
          "height": 536
        }
      },
      "source": [
        "train_model(model, 25)"
      ],
      "execution_count": null,
      "outputs": [
        {
          "output_type": "stream",
          "text": [
            "Epoch 1/25\n",
            "1092/1093 [============================>.] - ETA: 0s - loss: 2.0977 - accuracy: 0.3051 - sparse_top_k_categorical_accuracy: 0.5945\n",
            "Epoch 00001: val_loss improved from inf to 2.10600, saving model to temp_weights.h5\n",
            "1093/1093 [==============================] - 49s 45ms/step - loss: 2.0978 - accuracy: 0.3050 - sparse_top_k_categorical_accuracy: 0.5944 - val_loss: 2.1060 - val_accuracy: 0.3011 - val_sparse_top_k_categorical_accuracy: 0.5970\n",
            "Epoch 2/25\n",
            "1092/1093 [============================>.] - ETA: 0s - loss: 1.9933 - accuracy: 0.3399 - sparse_top_k_categorical_accuracy: 0.6382\n",
            "Epoch 00002: val_loss did not improve from 2.10600\n",
            "1093/1093 [==============================] - 50s 45ms/step - loss: 1.9932 - accuracy: 0.3399 - sparse_top_k_categorical_accuracy: 0.6381 - val_loss: 2.1174 - val_accuracy: 0.2961 - val_sparse_top_k_categorical_accuracy: 0.5891\n"
          ],
          "name": "stdout"
        },
        {
          "output_type": "display_data",
          "data": {
            "image/png": "[encoded data removed]",
            "text/plain": [
              "<Figure size 432x288 with 1 Axes>"
            ]
          },
          "metadata": {
            "tags": [],
            "needs_background": "light"
          }
        },
        {
          "output_type": "stream",
          "text": [
            "156/156 [==============================] - 6s 37ms/step - loss: 2.1060 - accuracy: 0.3007 - sparse_top_k_categorical_accuracy: 0.5970\n",
            "Result on validation data:  {'loss': 2.10602068901062, 'accuracy': 0.30068108439445496, 'sparse_top_k_categorical_accuracy': 0.5969551205635071}\n",
            "312/312 [==============================] - 12s 38ms/step - loss: 2.1198 - accuracy: 0.2915 - sparse_top_k_categorical_accuracy: 0.5872\n",
            "Result on test data:  {'loss': 2.119795083999634, 'accuracy': 0.2914663553237915, 'sparse_top_k_categorical_accuracy': 0.5872395634651184}\n"
          ],
          "name": "stdout"
        },
        {
          "output_type": "execute_result",
          "data": {
            "text/plain": [
              "<tensorflow.python.keras.engine.sequential.Sequential at 0x7f7e3895e9b0>"
            ]
          },
          "metadata": {
            "tags": []
          },
          "execution_count": 15
        }
      ]
    },
    {
      "cell_type": "code",
      "metadata": {
        "id": "BEw66sicNp0y",
        "outputId": "63643072-b58f-4897-a153-c6ff4dcf3cdd",
        "colab": {
          "base_uri": "https://localhost:8080/",
          "height": 978
        }
      },
      "source": [
        "model = create_model_hub(\"https://tfhub.dev/tensorflow/resnet_50/feature_vector/1\", 0.0001)\n",
        "model.summary()\n",
        "train_model(model, 25)"
      ],
      "execution_count": null,
      "outputs": [
        {
          "output_type": "stream",
          "text": [
            "Model: \"sequential\"\n",
            "_________________________________________________________________\n",
            "Layer (type)                 Output Shape              Param #   \n",
            "=================================================================\n",
            "keras_layer (KerasLayer)     (None, 2048)              23561152  \n",
            "_________________________________________________________________\n",
            "dense (Dense)                (None, 512)               1049088   \n",
            "_________________________________________________________________\n",
            "dense_1 (Dense)              (None, 15)                7695      \n",
            "=================================================================\n",
            "Total params: 24,617,935\n",
            "Trainable params: 1,056,783\n",
            "Non-trainable params: 23,561,152\n",
            "_________________________________________________________________\n",
            "Epoch 1/25\n",
            "   2/1093 [..............................] - ETA: 54s - loss: 3.1341 - accuracy: 0.0938 - sparse_top_k_categorical_accuracy: 0.2031WARNING:tensorflow:Callbacks method `on_train_batch_end` is slow compared to the batch time (batch time: 0.0236s vs `on_train_batch_end` time: 0.0747s). Check your callbacks.\n"
          ],
          "name": "stdout"
        },
        {
          "output_type": "stream",
          "text": [
            "WARNING:tensorflow:Callbacks method `on_train_batch_end` is slow compared to the batch time (batch time: 0.0236s vs `on_train_batch_end` time: 0.0747s). Check your callbacks.\n"
          ],
          "name": "stderr"
        },
        {
          "output_type": "stream",
          "text": [
            "1093/1093 [==============================] - ETA: 0s - loss: 2.2020 - accuracy: 0.2742 - sparse_top_k_categorical_accuracy: 0.5579WARNING:tensorflow:Callbacks method `on_test_batch_end` is slow compared to the batch time (batch time: 0.0143s vs `on_test_batch_end` time: 0.0820s). Check your callbacks.\n"
          ],
          "name": "stdout"
        },
        {
          "output_type": "stream",
          "text": [
            "WARNING:tensorflow:Callbacks method `on_test_batch_end` is slow compared to the batch time (batch time: 0.0143s vs `on_test_batch_end` time: 0.0820s). Check your callbacks.\n"
          ],
          "name": "stderr"
        },
        {
          "output_type": "stream",
          "text": [
            "\n",
            "Epoch 00001: val_loss improved from inf to 2.09856, saving model to temp_weights.h5\n",
            "1093/1093 [==============================] - 126s 115ms/step - loss: 2.2020 - accuracy: 0.2742 - sparse_top_k_categorical_accuracy: 0.5579 - val_loss: 2.0986 - val_accuracy: 0.2981 - val_sparse_top_k_categorical_accuracy: 0.5988\n",
            "Epoch 2/25\n",
            "1093/1093 [==============================] - ETA: 0s - loss: 2.0066 - accuracy: 0.3365 - sparse_top_k_categorical_accuracy: 0.6327\n",
            "Epoch 00002: val_loss improved from 2.09856 to 2.07740, saving model to temp_weights.h5\n",
            "1093/1093 [==============================] - 128s 117ms/step - loss: 2.0066 - accuracy: 0.3365 - sparse_top_k_categorical_accuracy: 0.6327 - val_loss: 2.0774 - val_accuracy: 0.3117 - val_sparse_top_k_categorical_accuracy: 0.6020\n",
            "Epoch 3/25\n",
            "1093/1093 [==============================] - ETA: 0s - loss: 1.8953 - accuracy: 0.3749 - sparse_top_k_categorical_accuracy: 0.6691\n",
            "Epoch 00003: val_loss did not improve from 2.07740\n",
            "1093/1093 [==============================] - 129s 118ms/step - loss: 1.8953 - accuracy: 0.3749 - sparse_top_k_categorical_accuracy: 0.6691 - val_loss: 2.0958 - val_accuracy: 0.3093 - val_sparse_top_k_categorical_accuracy: 0.6080\n"
          ],
          "name": "stdout"
        },
        {
          "output_type": "display_data",
          "data": {
            "image/png": "[encoded data removed]",
            "text/plain": [
              "<Figure size 432x288 with 1 Axes>"
            ]
          },
          "metadata": {
            "tags": [],
            "needs_background": "light"
          }
        },
        {
          "output_type": "stream",
          "text": [
            "      2/Unknown - 0s 93ms/step - loss: 2.0964 - accuracy: 0.2969 - sparse_top_k_categorical_accuracy: 0.5312WARNING:tensorflow:Callbacks method `on_test_batch_end` is slow compared to the batch time (batch time: 0.0200s vs `on_test_batch_end` time: 0.0845s). Check your callbacks.\n"
          ],
          "name": "stdout"
        },
        {
          "output_type": "stream",
          "text": [
            "WARNING:tensorflow:Callbacks method `on_test_batch_end` is slow compared to the batch time (batch time: 0.0200s vs `on_test_batch_end` time: 0.0845s). Check your callbacks.\n"
          ],
          "name": "stderr"
        },
        {
          "output_type": "stream",
          "text": [
            "156/156 [==============================] - 16s 103ms/step - loss: 2.0768 - accuracy: 0.3121 - sparse_top_k_categorical_accuracy: 0.6030\n",
            "Result on validation data:  {'loss': 2.076798439025879, 'accuracy': 0.3120993673801422, 'sparse_top_k_categorical_accuracy': 0.6029647588729858}\n",
            "      2/Unknown - 0s 93ms/step - loss: 2.4365 - accuracy: 0.2656 - sparse_top_k_categorical_accuracy: 0.5156WARNING:tensorflow:Callbacks method `on_test_batch_end` is slow compared to the batch time (batch time: 0.0189s vs `on_test_batch_end` time: 0.0846s). Check your callbacks.\n"
          ],
          "name": "stdout"
        },
        {
          "output_type": "stream",
          "text": [
            "WARNING:tensorflow:Callbacks method `on_test_batch_end` is slow compared to the batch time (batch time: 0.0189s vs `on_test_batch_end` time: 0.0846s). Check your callbacks.\n"
          ],
          "name": "stderr"
        },
        {
          "output_type": "stream",
          "text": [
            "312/312 [==============================] - 32s 102ms/step - loss: 2.0878 - accuracy: 0.3047 - sparse_top_k_categorical_accuracy: 0.5985\n",
            "Result on test data:  {'loss': 2.087773561477661, 'accuracy': 0.3046875, 'sparse_top_k_categorical_accuracy': 0.5984575152397156}\n"
          ],
          "name": "stdout"
        },
        {
          "output_type": "execute_result",
          "data": {
            "text/plain": [
              "<tensorflow.python.keras.engine.sequential.Sequential at 0x7f44e52ceb00>"
            ]
          },
          "metadata": {
            "tags": []
          },
          "execution_count": 6
        }
      ]
    },
    {
      "cell_type": "code",
      "metadata": {
        "id": "CRet8EfXGEmu"
      },
      "source": [
        ""
      ],
      "execution_count": null,
      "outputs": []
    },
    {
      "cell_type": "code",
      "metadata": {
        "id": "T1i78T0dRF0Z",
        "outputId": "6e4797d8-71a1-4ac1-8c55-885a196e28a5",
        "colab": {
          "base_uri": "https://localhost:8080/",
          "height": 740
        }
      },
      "source": [
        "model = create_model_hub(\"https://tfhub.dev/google/imagenet/inception_v2/feature_vector/4\", 0.0001)\n",
        "train_model(model, 25)"
      ],
      "execution_count": null,
      "outputs": [
        {
          "output_type": "stream",
          "text": [
            "Epoch 1/25\n",
            "   2/1093 [..............................] - ETA: 28s - loss: 2.7797 - accuracy: 0.0625 - sparse_top_k_categorical_accuracy: 0.2031WARNING:tensorflow:Callbacks method `on_train_batch_end` is slow compared to the batch time (batch time: 0.0194s vs `on_train_batch_end` time: 0.0330s). Check your callbacks.\n"
          ],
          "name": "stdout"
        },
        {
          "output_type": "stream",
          "text": [
            "WARNING:tensorflow:Callbacks method `on_train_batch_end` is slow compared to the batch time (batch time: 0.0194s vs `on_train_batch_end` time: 0.0330s). Check your callbacks.\n"
          ],
          "name": "stderr"
        },
        {
          "output_type": "stream",
          "text": [
            "1093/1093 [==============================] - ETA: 0s - loss: 2.2361 - accuracy: 0.2593 - sparse_top_k_categorical_accuracy: 0.5369WARNING:tensorflow:Callbacks method `on_test_batch_end` is slow compared to the batch time (batch time: 0.0177s vs `on_test_batch_end` time: 0.0316s). Check your callbacks.\n"
          ],
          "name": "stdout"
        },
        {
          "output_type": "stream",
          "text": [
            "WARNING:tensorflow:Callbacks method `on_test_batch_end` is slow compared to the batch time (batch time: 0.0177s vs `on_test_batch_end` time: 0.0316s). Check your callbacks.\n"
          ],
          "name": "stderr"
        },
        {
          "output_type": "stream",
          "text": [
            "\n",
            "Epoch 00001: val_loss improved from inf to 2.15314, saving model to temp_weights.h5\n",
            "1093/1093 [==============================] - 69s 63ms/step - loss: 2.2361 - accuracy: 0.2593 - sparse_top_k_categorical_accuracy: 0.5369 - val_loss: 2.1531 - val_accuracy: 0.2817 - val_sparse_top_k_categorical_accuracy: 0.5681\n",
            "Epoch 2/25\n",
            "1093/1093 [==============================] - ETA: 0s - loss: 2.1168 - accuracy: 0.2969 - sparse_top_k_categorical_accuracy: 0.5875\n",
            "Epoch 00002: val_loss improved from 2.15314 to 2.12511, saving model to temp_weights.h5\n",
            "1093/1093 [==============================] - 68s 62ms/step - loss: 2.1168 - accuracy: 0.2969 - sparse_top_k_categorical_accuracy: 0.5875 - val_loss: 2.1251 - val_accuracy: 0.2973 - val_sparse_top_k_categorical_accuracy: 0.5931\n",
            "Epoch 3/25\n",
            "1093/1093 [==============================] - ETA: 0s - loss: 2.0593 - accuracy: 0.3153 - sparse_top_k_categorical_accuracy: 0.6094\n",
            "Epoch 00003: val_loss did not improve from 2.12511\n",
            "1093/1093 [==============================] - 67s 62ms/step - loss: 2.0593 - accuracy: 0.3153 - sparse_top_k_categorical_accuracy: 0.6094 - val_loss: 2.1500 - val_accuracy: 0.2893 - val_sparse_top_k_categorical_accuracy: 0.5723\n"
          ],
          "name": "stdout"
        },
        {
          "output_type": "display_data",
          "data": {
            "image/png": "[encoded data removed]",
            "text/plain": [
              "<Figure size 432x288 with 1 Axes>"
            ]
          },
          "metadata": {
            "tags": [],
            "needs_background": "light"
          }
        },
        {
          "output_type": "stream",
          "text": [
            "      2/Unknown - 0s 41ms/step - loss: 2.0636 - accuracy: 0.3438 - sparse_top_k_categorical_accuracy: 0.6875WARNING:tensorflow:Callbacks method `on_test_batch_end` is slow compared to the batch time (batch time: 0.0174s vs `on_test_batch_end` time: 0.0365s). Check your callbacks.\n"
          ],
          "name": "stdout"
        },
        {
          "output_type": "stream",
          "text": [
            "WARNING:tensorflow:Callbacks method `on_test_batch_end` is slow compared to the batch time (batch time: 0.0174s vs `on_test_batch_end` time: 0.0365s). Check your callbacks.\n"
          ],
          "name": "stderr"
        },
        {
          "output_type": "stream",
          "text": [
            "156/156 [==============================] - 8s 54ms/step - loss: 2.1261 - accuracy: 0.2969 - sparse_top_k_categorical_accuracy: 0.5929\n",
            "Result on validation data:  {'loss': 2.1260859966278076, 'accuracy': 0.296875, 'sparse_top_k_categorical_accuracy': 0.5929487347602844}\n",
            "      2/Unknown - 0s 41ms/step - loss: 2.3076 - accuracy: 0.2656 - sparse_top_k_categorical_accuracy: 0.5000WARNING:tensorflow:Callbacks method `on_test_batch_end` is slow compared to the batch time (batch time: 0.0214s vs `on_test_batch_end` time: 0.0347s). Check your callbacks.\n"
          ],
          "name": "stdout"
        },
        {
          "output_type": "stream",
          "text": [
            "WARNING:tensorflow:Callbacks method `on_test_batch_end` is slow compared to the batch time (batch time: 0.0214s vs `on_test_batch_end` time: 0.0347s). Check your callbacks.\n"
          ],
          "name": "stderr"
        },
        {
          "output_type": "stream",
          "text": [
            "312/312 [==============================] - 17s 54ms/step - loss: 2.1250 - accuracy: 0.2869 - sparse_top_k_categorical_accuracy: 0.5788\n",
            "Result on test data:  {'loss': 2.1249961853027344, 'accuracy': 0.2868589758872986, 'sparse_top_k_categorical_accuracy': 0.5788261294364929}\n"
          ],
          "name": "stdout"
        },
        {
          "output_type": "execute_result",
          "data": {
            "text/plain": [
              "<tensorflow.python.keras.engine.sequential.Sequential at 0x7f7ba744fa90>"
            ]
          },
          "metadata": {
            "tags": []
          },
          "execution_count": 17
        }
      ]
    },
    {
      "cell_type": "code",
      "metadata": {
        "id": "IvgR75ZCGDiX"
      },
      "source": [
        "model=create_model_hub(\"https://tfhub.dev/google/tf2-preview/mobilenet_v2/feature_vector/4\",0.0001)"
      ],
      "execution_count": null,
      "outputs": []
    },
    {
      "cell_type": "code",
      "metadata": {
        "id": "x73AxO_d1l8n",
        "outputId": "3d946950-a70d-4fb6-f308-c9a23e337f1b",
        "colab": {
          "base_uri": "https://localhost:8080/",
          "height": 638
        }
      },
      "source": [
        "train_model(model,25)"
      ],
      "execution_count": null,
      "outputs": [
        {
          "output_type": "stream",
          "text": [
            "Epoch 1/25\n",
            "   1/1093 [..............................] - ETA: 0s - loss: 2.9409 - accuracy: 0.0312 - sparse_top_k_categorical_accuracy: 0.0938WARNING:tensorflow:Callbacks method `on_train_batch_end` is slow compared to the batch time (batch time: 0.0158s vs `on_train_batch_end` time: 0.0244s). Check your callbacks.\n"
          ],
          "name": "stdout"
        },
        {
          "output_type": "stream",
          "text": [
            "WARNING:tensorflow:Callbacks method `on_train_batch_end` is slow compared to the batch time (batch time: 0.0158s vs `on_train_batch_end` time: 0.0244s). Check your callbacks.\n"
          ],
          "name": "stderr"
        },
        {
          "output_type": "stream",
          "text": [
            "1093/1093 [==============================] - ETA: 0s - loss: 2.2307 - accuracy: 0.2640 - sparse_top_k_categorical_accuracy: 0.5388\n",
            "Epoch 00001: val_loss improved from inf to 2.14655, saving model to temp_weights.h5\n",
            "1093/1093 [==============================] - 55s 51ms/step - loss: 2.2307 - accuracy: 0.2640 - sparse_top_k_categorical_accuracy: 0.5388 - val_loss: 2.1465 - val_accuracy: 0.2923 - val_sparse_top_k_categorical_accuracy: 0.5805\n",
            "Epoch 2/25\n",
            "1092/1093 [============================>.] - ETA: 0s - loss: 2.0334 - accuracy: 0.3267 - sparse_top_k_categorical_accuracy: 0.6193\n",
            "Epoch 00002: val_loss improved from 2.14655 to 2.12179, saving model to temp_weights.h5\n",
            "1093/1093 [==============================] - 55s 51ms/step - loss: 2.0337 - accuracy: 0.3265 - sparse_top_k_categorical_accuracy: 0.6192 - val_loss: 2.1218 - val_accuracy: 0.3031 - val_sparse_top_k_categorical_accuracy: 0.5901\n",
            "Epoch 3/25\n",
            "1093/1093 [==============================] - ETA: 0s - loss: 1.9021 - accuracy: 0.3732 - sparse_top_k_categorical_accuracy: 0.6684\n",
            "Epoch 00003: val_loss did not improve from 2.12179\n",
            "1093/1093 [==============================] - 55s 50ms/step - loss: 1.9021 - accuracy: 0.3732 - sparse_top_k_categorical_accuracy: 0.6684 - val_loss: 2.1700 - val_accuracy: 0.2919 - val_sparse_top_k_categorical_accuracy: 0.5823\n"
          ],
          "name": "stdout"
        },
        {
          "output_type": "display_data",
          "data": {
            "image/png": "[encoded data removed]",
            "text/plain": [
              "<Figure size 432x288 with 1 Axes>"
            ]
          },
          "metadata": {
            "tags": [],
            "needs_background": "light"
          }
        },
        {
          "output_type": "stream",
          "text": [
            "156/156 [==============================] - 7s 43ms/step - loss: 2.1228 - accuracy: 0.3029 - sparse_top_k_categorical_accuracy: 0.5897\n",
            "Result on validation data:  {'loss': 2.1227946281433105, 'accuracy': 0.30288460850715637, 'sparse_top_k_categorical_accuracy': 0.5897436141967773}\n",
            "312/312 [==============================] - 13s 43ms/step - loss: 2.1499 - accuracy: 0.2865 - sparse_top_k_categorical_accuracy: 0.5707\n",
            "Result on test data:  {'loss': 2.149858236312866, 'accuracy': 0.2864583432674408, 'sparse_top_k_categorical_accuracy': 0.5707131624221802}\n"
          ],
          "name": "stdout"
        },
        {
          "output_type": "execute_result",
          "data": {
            "text/plain": [
              "<tensorflow.python.keras.engine.sequential.Sequential at 0x7f7ba5ce5470>"
            ]
          },
          "metadata": {
            "tags": []
          },
          "execution_count": 19
        }
      ]
    },
    {
      "cell_type": "code",
      "metadata": {
        "id": "XZEL1HjvkGX4"
      },
      "source": [
        ""
      ],
      "execution_count": null,
      "outputs": []
    },
    {
      "cell_type": "code",
      "metadata": {
        "id": "Kvff3uE81qZx"
      },
      "source": [
        "model=create_model_hub(\"https://tfhub.dev/google/imagenet/inception_v1/classification/4\",0.0001)"
      ],
      "execution_count": null,
      "outputs": []
    },
    {
      "cell_type": "code",
      "metadata": {
        "id": "hv3tKJLR27Ck",
        "outputId": "23bc91c2-f0af-4f50-da90-099ffa64e176",
        "colab": {
          "base_uri": "https://localhost:8080/",
          "height": 672
        }
      },
      "source": [
        "train_model(model,25)"
      ],
      "execution_count": null,
      "outputs": [
        {
          "output_type": "stream",
          "text": [
            "Epoch 1/25\n",
            "   1/1093 [..............................] - ETA: 0s - loss: 3.3263 - accuracy: 0.0938 - sparse_top_k_categorical_accuracy: 0.2500WARNING:tensorflow:Callbacks method `on_train_batch_end` is slow compared to the batch time (batch time: 0.0144s vs `on_train_batch_end` time: 0.0257s). Check your callbacks.\n"
          ],
          "name": "stdout"
        },
        {
          "output_type": "stream",
          "text": [
            "WARNING:tensorflow:Callbacks method `on_train_batch_end` is slow compared to the batch time (batch time: 0.0144s vs `on_train_batch_end` time: 0.0257s). Check your callbacks.\n"
          ],
          "name": "stderr"
        },
        {
          "output_type": "stream",
          "text": [
            "1092/1093 [============================>.] - ETA: 0s - loss: 2.2582 - accuracy: 0.2618 - sparse_top_k_categorical_accuracy: 0.5376\n",
            "Epoch 00001: val_loss improved from inf to 2.16592, saving model to temp_weights.h5\n",
            "1093/1093 [==============================] - 56s 51ms/step - loss: 2.2580 - accuracy: 0.2617 - sparse_top_k_categorical_accuracy: 0.5377 - val_loss: 2.1659 - val_accuracy: 0.2881 - val_sparse_top_k_categorical_accuracy: 0.5777\n",
            "Epoch 2/25\n",
            "1093/1093 [==============================] - ETA: 0s - loss: 2.0314 - accuracy: 0.3252 - sparse_top_k_categorical_accuracy: 0.6210\n",
            "Epoch 00002: val_loss did not improve from 2.16592\n",
            "1093/1093 [==============================] - 56s 51ms/step - loss: 2.0314 - accuracy: 0.3252 - sparse_top_k_categorical_accuracy: 0.6210 - val_loss: 2.1680 - val_accuracy: 0.2909 - val_sparse_top_k_categorical_accuracy: 0.5827\n",
            "Epoch 3/25\n",
            "1092/1093 [============================>.] - ETA: 0s - loss: 1.8997 - accuracy: 0.3726 - sparse_top_k_categorical_accuracy: 0.6656\n",
            "Epoch 00003: val_loss did not improve from 2.16592\n",
            "1093/1093 [==============================] - 56s 51ms/step - loss: 1.8998 - accuracy: 0.3726 - sparse_top_k_categorical_accuracy: 0.6656 - val_loss: 2.1802 - val_accuracy: 0.2752 - val_sparse_top_k_categorical_accuracy: 0.5695\n"
          ],
          "name": "stdout"
        },
        {
          "output_type": "display_data",
          "data": {
            "image/png": "[encoded data removed]",
            "text/plain": [
              "<Figure size 432x288 with 1 Axes>"
            ]
          },
          "metadata": {
            "tags": [],
            "needs_background": "light"
          }
        },
        {
          "output_type": "stream",
          "text": [
            "156/156 [==============================] - 7s 44ms/step - loss: 2.1676 - accuracy: 0.2877 - sparse_top_k_categorical_accuracy: 0.5771\n",
            "Result on validation data:  {'loss': 2.167635202407837, 'accuracy': 0.28766027092933655, 'sparse_top_k_categorical_accuracy': 0.5771234035491943}\n",
            "      1/Unknown - 0s 19ms/step - loss: 2.0657 - accuracy: 0.2500 - sparse_top_k_categorical_accuracy: 0.5938WARNING:tensorflow:Callbacks method `on_test_batch_end` is slow compared to the batch time (batch time: 0.0156s vs `on_test_batch_end` time: 0.0238s). Check your callbacks.\n"
          ],
          "name": "stdout"
        },
        {
          "output_type": "stream",
          "text": [
            "WARNING:tensorflow:Callbacks method `on_test_batch_end` is slow compared to the batch time (batch time: 0.0156s vs `on_test_batch_end` time: 0.0238s). Check your callbacks.\n"
          ],
          "name": "stderr"
        },
        {
          "output_type": "stream",
          "text": [
            "312/312 [==============================] - 14s 44ms/step - loss: 2.1725 - accuracy: 0.2827 - sparse_top_k_categorical_accuracy: 0.5645\n",
            "Result on test data:  {'loss': 2.1725096702575684, 'accuracy': 0.28265222907066345, 'sparse_top_k_categorical_accuracy': 0.5645031929016113}\n"
          ],
          "name": "stdout"
        },
        {
          "output_type": "execute_result",
          "data": {
            "text/plain": [
              "<tensorflow.python.keras.engine.sequential.Sequential at 0x7f7ba2c21ac8>"
            ]
          },
          "metadata": {
            "tags": []
          },
          "execution_count": 21
        }
      ]
    },
    {
      "cell_type": "code",
      "metadata": {
        "id": "FzCmziIb2--w"
      },
      "source": [
        "import matplotlib.pyplot as plt\n",
        "from sklearn.decomposition import PCA\n",
        "from sklearn.discriminant_analysis import LinearDiscriminantAnalysis as LDA\n",
        "\n",
        "from sklearn.manifold import TSNE\n",
        "%matplotlib inline\n",
        "import matplotlib.pyplot as plt\n",
        "from mpl_toolkits.mplot3d import Axes3D\n",
        "import seaborn as sns"
      ],
      "execution_count": null,
      "outputs": []
    },
    {
      "cell_type": "code",
      "metadata": {
        "id": "bB5AxOA9stob",
        "outputId": "0575c60e-da2a-40e0-dc25-45b39fc5b954",
        "colab": {
          "base_uri": "https://localhost:8080/"
        }
      },
      "source": [
        "tedf = pd.read_csv(csv_path, header = 0, index_col = 0, encoding='latin1')\n",
        "cat_tup = tedf.groupby([\"cat_id\", \"Genre\"]).count().index.values\n",
        "cat_dict=dict() \n",
        "for cat_id,cat in cat_tup: \n",
        "    cat_dict[cat_id] = cat\n",
        "print(cat_dict)"
      ],
      "execution_count": null,
      "outputs": [
        {
          "output_type": "stream",
          "text": [
            "{0: 'Adventure', 1: 'Arcade', 2: 'Fighting', 3: 'Indie', 4: 'Music', 5: 'Pinball', 6: 'Platform', 7: 'Puzzle', 8: 'Quiz/Trivia', 9: 'Racing', 10: 'Role-playing(RPG)', 11: 'Shooter', 12: 'Simulator', 13: 'Sport', 14: 'Strategy'}\n"
          ],
          "name": "stdout"
        }
      ]
    },
    {
      "cell_type": "code",
      "metadata": {
        "id": "R_tcBD5JswWx",
        "outputId": "65ecff80-f79a-4757-9040-378e58d2ce55",
        "colab": {
          "base_uri": "https://localhost:8080/"
        }
      },
      "source": [
        "_,_,df = load_csv() # load train data \n",
        "#df = tedf\n",
        "print(\"...df loaded\")\n",
        "BATCH_SIZE = 32\n",
        "results = []\n",
        "newdata = []\n",
        "\n",
        "# seperate data based on category\n",
        "for i in range(outdim_size):\n",
        "  newdata.append(df[df.cat_id==i])\n",
        "\n",
        "# write tfrecord file and load dataset outdim_siz number of dataset\n",
        "dataset = load_cat(newdata, keras_hub=True)\n",
        "print(\"...dataset loaded\")"
      ],
      "execution_count": null,
      "outputs": [
        {
          "output_type": "stream",
          "text": [
            "...df loaded\n",
            "...dataset loaded\n"
          ],
          "name": "stdout"
        }
      ]
    },
    {
      "cell_type": "code",
      "metadata": {
        "id": "h2D3vCXWsyy0"
      },
      "source": [
        "def load_cat(newdata, tfrecord_path = \"new.tfrecord\", keras_hub=False):\n",
        "    data = load_csv()\n",
        "    \n",
        "    dataset = []\n",
        "    for i in range(outdim_size):\n",
        "        tfrecord_path = \"test_cat\"+str(i)+\".tfrecord\"\n",
        "        write_tfrecord(newdata[i], tfrecord_path)\n",
        "        dataset.append(get_dataset(tfrecord_path))\n",
        "\n",
        "    return dataset\n"
      ],
      "execution_count": null,
      "outputs": []
    },
    {
      "cell_type": "code",
      "metadata": {
        "id": "mhKBG062s7jJ"
      },
      "source": [
        "cat_sample_size = df.groupby([\"Genre\", \"cat_id\"]).count().Descriptions\n",
        "\n",
        "from collections import Counter\n",
        "\n",
        "# each iteration the below code will count the predic and apend in the prediction list\n",
        "pred_count = []\n",
        "# list of dataframe that contains the prediction layer for each category\n",
        "prob_df_list = []\n",
        "for i in range(outdim_size):\n",
        "  steps = cat_sample_size[i] // 32\n",
        "  prob_y = model.predict(dataset[i].repeat(), steps=steps)\n",
        "  pred_y = tf.argmax(prob_y, 1)\n",
        "  pred_count.append(Counter(pred_y.numpy()))\n",
        "\n",
        "  feat_cols = ['f'+str(k) for k in range(prob_y.shape[1])]\n",
        "  prob_df = pd.DataFrame(prob_y,columns=feat_cols)\n",
        "  prob_df[\"genre\"] = [cat_dict[i] for k in range(prob_y.shape[0])]\n",
        "  prob_df_list.append(prob_df)\n",
        "\n",
        "# put all the predict into confusion matrix where row is truth value\n",
        "conf_mat = pd.DataFrame(pred_count, columns=range(outdim_size))\n",
        "conf_mat.fillna(0, inplace=True)\n",
        "\n",
        "# prediction layer with true category\n",
        "prob_df = pd.concat(prob_df_list, ignore_index=True, sort=False)"
      ],
      "execution_count": null,
      "outputs": []
    },
    {
      "cell_type": "code",
      "metadata": {
        "id": "IThTb8KgtgHs",
        "outputId": "9d965228-2836-4d3a-e4c6-ce438370ec4d",
        "colab": {
          "base_uri": "https://localhost:8080/",
          "height": 657
        }
      },
      "source": [
        "df_cm = pd.DataFrame(conf_mat.values.astype(int), cat_dict.values(), cat_dict.values())\n",
        "plt.figure(figsize=(14,10))\n",
        "sns.set(font_scale=1) # for label size\n",
        "sns.heatmap(df_cm, annot=True,fmt='d', annot_kws={\"size\": 8}, cmap=\"OrRd\") # font size\n",
        "\n",
        "plt.savefig(\"filename.png\")\n",
        "plt.show()"
      ],
      "execution_count": null,
      "outputs": [
        {
          "output_type": "display_data",
          "data": {
            "image/png": "[encoded data removed]",
            "text/plain": [
              "<Figure size 1008x720 with 2 Axes>"
            ]
          },
          "metadata": {
            "tags": [],
            "needs_background": "light"
          }
        }
      ]
    },
    {
      "cell_type": "code",
      "metadata": {
        "id": "yIfEEfgLuDfI",
        "outputId": "a052bf6a-59e5-49c5-aa8b-02c0a0e4559e",
        "colab": {
          "base_uri": "https://localhost:8080/"
        }
      },
      "source": [
        "print('ResNet50 accuracy by genre:')\n",
        "for i in range(outdim_size):\n",
        "  acc = conf_mat.values[i,i]/sum(conf_mat.loc[i,:])\n",
        "  print(cat_dict[i],\" (\",str(i), \"): \",  str(acc*100), \" %\")\n"
      ],
      "execution_count": null,
      "outputs": [
        {
          "output_type": "stream",
          "text": [
            "ResNet50 accuracy by genre:\n",
            "Adventure  ( 0 ):  39.52205882352941  %\n",
            "Arcade  ( 1 ):  1.9886363636363635  %\n",
            "Fighting  ( 2 ):  35.625  %\n",
            "Indie  ( 3 ):  41.66666666666667  %\n",
            "Music  ( 4 ):  8.59375  %\n",
            "Pinball  ( 5 ):  28.125  %\n",
            "Platform  ( 6 ):  16.319444444444446  %\n",
            "Puzzle  ( 7 ):  30.16304347826087  %\n",
            "Quiz/Trivia  ( 8 ):  6.25  %\n",
            "Racing  ( 9 ):  54.947916666666664  %\n",
            "Role-playing(RPG)  ( 10 ):  12.228260869565217  %\n",
            "Shooter  ( 11 ):  35.57692307692308  %\n",
            "Simulator  ( 12 ):  15.494791666666666  %\n",
            "Sport  ( 13 ):  58.559782608695656  %\n",
            "Strategy  ( 14 ):  18.035714285714285  %\n"
          ],
          "name": "stdout"
        }
      ]
    },
    {
      "cell_type": "code",
      "metadata": {
        "id": "zfky7NjsuF4Z"
      },
      "source": [
        ""
      ],
      "execution_count": null,
      "outputs": []
    }
  ]
}