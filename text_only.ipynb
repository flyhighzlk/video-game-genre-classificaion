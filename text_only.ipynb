{
  "nbformat": 4,
  "nbformat_minor": 0,
  "metadata": {
    "colab": {
      "name": "Untitled0.ipynb",
      "provenance": []
    },
    "kernelspec": {
      "name": "python3",
      "display_name": "Python 3"
    },
    "accelerator": "GPU"
  },
  "cells": [
    {
      "cell_type": "code",
      "metadata": {
        "id": "BjP7hTxInc6e"
      },
      "source": [
        "import tensorflow as tf\n",
        "import pandas as pd"
      ],
      "execution_count": null,
      "outputs": []
    },
    {
      "cell_type": "code",
      "metadata": {
        "id": "UoOcadfInjPp"
      },
      "source": [
        "tfrecord_path = [\"train_data.tfrecord\", \"val_data.tfrecord\", \"test_data.tfrecord\"]"
      ],
      "execution_count": null,
      "outputs": []
    },
    {
      "cell_type": "code",
      "metadata": {
        "id": "BpVIFQ4gj4vR"
      },
      "source": [
        "csv_path='Dataset.csv'"
      ],
      "execution_count": null,
      "outputs": []
    },
    {
      "cell_type": "code",
      "metadata": {
        "id": "2z9TJVXJnoqn"
      },
      "source": [
        "val_ratio = 0.1\n",
        "test_ratio = 0.2\n",
        "BUFFER_SIZE = 1000\n",
        "BATCH_SIZE = 32\n",
        "steps_train = (50000*0.7) // BATCH_SIZE\n",
        "steps_val = (50000*0.1) // BATCH_SIZE\n",
        "steps_test = (50000*0.2) // BATCH_SIZE\n",
        "outdim_size = 15\n",
        "vocab_size = 15660\n",
        "max_len = 100"
      ],
      "execution_count": null,
      "outputs": []
    },
    {
      "cell_type": "code",
      "metadata": {
        "id": "xrvZ_qeLnvAD"
      },
      "source": [
        "import numpy as np\n",
        "import pandas as pd\n",
        "from sklearn.model_selection import train_test_split\n",
        "\n",
        "# helper functions for writing tfrecord data\n",
        "def load_csv():\n",
        "    df = pd.read_csv(csv_path, header = 0, index_col = 0, encoding='latin1')\n",
        "\n",
        "    # split the data into train, validation and test\n",
        "    train_data, val_data = train_test_split(df, test_size=(test_ratio+val_ratio), random_state=21)\n",
        "    val_data, test_data = train_test_split(val_data, test_size=test_ratio/(test_ratio+val_ratio), random_state=21)\n",
        "\n",
        "    return train_data, val_data, test_data\n",
        "\n",
        "\n",
        "from tensorflow.keras.preprocessing.text import Tokenizer\n",
        "from tensorflow.keras.preprocessing.sequence import pad_sequences\n",
        "\n",
        "# functions for process texts\n",
        "def get_token(texts, word_freq=10):\n",
        "  words = texts.str.split(expand=True).stack().value_counts()\n",
        "  words = pd.DataFrame(words, columns=[\"freq\"])\n",
        "  vocab_size = len(words[words.freq > word_freq])\n",
        "  token = Tokenizer(num_words=vocab_size)\n",
        "  token.fit_on_texts(texts)\n",
        "  return token, vocab_size\n",
        "\n",
        "def get_text_sequence(text, token, max_len=100):\n",
        "  sequences = token.texts_to_sequences([text])\n",
        "  return pad_sequences(sequences,maxlen=max_len).reshape(-1)\n",
        "\n",
        "def _bytes_feature(value):\n",
        "  \"\"\"Returns a bytes_list from a string / byte.\"\"\"\n",
        "  if isinstance(value, type(tf.constant(0))):\n",
        "    value = value.numpy() # BytesList won't unpack a string from an EagerTensor.\n",
        "  return tf.train.Feature(bytes_list=tf.train.BytesList(value=[value]))\n",
        "\n",
        "def make_example(text_sequence, label, keras_hub=True):\n",
        "    if keras_hub:\n",
        "        feature = {            \n",
        "            'text_sequence': _bytes_feature(text_sequence.encode()),\n",
        "            'label': tf.train.Feature(int64_list=tf.train.Int64List(value=[label])),\n",
        "        }\n",
        "    else:\n",
        "        feature = {\n",
        "              'text_sequence': tf.train.Feature(int64_list=tf.train.Int64List(value=text_sequence)),\n",
        "              'label': tf.train.Feature(int64_list=tf.train.Int64List(value=[label])),\n",
        "          }\n",
        "        \n",
        "    return tf.train.Example(features=tf.train.Features(feature=feature))\n",
        "\n",
        "def write_tfrecord(data, token, tfrecord_path, keras_hub=True):\n",
        "    with tf.io.TFRecordWriter(tfrecord_path) as writer:\n",
        "        for _,row in data.iterrows():\n",
        "            text_sequence = row[\"Descriptions\"] if keras_hub else get_text_sequence(row[\"Descriptions\"], token)\n",
        "            label = row[\"cat_id\"]\n",
        "            example = make_example(text_sequence, label, keras_hub)  \n",
        "            writer.write(example.SerializeToString()) \n",
        "\n",
        "# healper functions for reading tfrecord data \n",
        "feature_description = {\n",
        "    'text_sequence': tf.io.FixedLenFeature([100], tf.int64),\n",
        "    'label': tf.io.FixedLenFeature([], tf.int64),\n",
        "}\n",
        "feature_description_hub = {\n",
        "    'text_sequence': tf.io.FixedLenFeature([], tf.string),\n",
        "    'label': tf.io.FixedLenFeature([], tf.int64),\n",
        "}\n",
        "\n",
        "\n",
        "def parser(proto):\n",
        "    parsed_features = tf.io.parse_single_example(proto, feature_description)\n",
        "    text_sequence = parsed_features['text_sequence']\n",
        "    label = parsed_features['label']\n",
        "    return text_sequence, label\n",
        "\n",
        "def parser_hub(proto):\n",
        "    parsed_features = tf.io.parse_single_example(proto, feature_description_hub)\n",
        "    text_sequence = parsed_features['text_sequence']\n",
        "    label = parsed_features['label']\n",
        "    return text_sequence, label\n",
        "\n",
        "def get_dataset(tfrecord_path, keras_hub=True):\n",
        "    dataset = tf.data.TFRecordDataset(tfrecord_path)\n",
        "    if keras_hub:\n",
        "        dataset = dataset.map(parser_hub, num_parallel_calls=tf.data.experimental.AUTOTUNE)\n",
        "    else:\n",
        "        dataset = dataset.map(parser, num_parallel_calls=tf.data.experimental.AUTOTUNE)\n",
        "    dataset = dataset.shuffle(BUFFER_SIZE)\n",
        "    dataset = dataset.batch(BATCH_SIZE, drop_remainder=True)\n",
        "    dataset = dataset.cache()\n",
        "    dataset = dataset.prefetch(tf.data.experimental.AUTOTUNE)\n",
        "    return dataset\n",
        "\n",
        "\n",
        "def load_data(first_time=True, keras_hub=True):\n",
        "    if first_time:\n",
        "        data = load_csv()\n",
        "        token, _ = get_token(data[0].Descriptions)\n",
        "        for i in range(3):\n",
        "           write_tfrecord(data[i], token, tfrecord_path[i], keras_hub)\n",
        "\n",
        "    # load the dataset    \n",
        "    dataset = []   \n",
        "    for i in range(3):\n",
        "        data = get_dataset(tfrecord_path[i], keras_hub)\n",
        "        dataset.append(data)\n",
        "    return dataset"
      ],
      "execution_count": null,
      "outputs": []
    },
    {
      "cell_type": "code",
      "metadata": {
        "id": "bFPsZ2kSnz1c"
      },
      "source": [
        "train_data, val_data, test_data = load_data(True, True)"
      ],
      "execution_count": null,
      "outputs": []
    },
    {
      "cell_type": "code",
      "metadata": {
        "id": "FnLXGrDin45F"
      },
      "source": [
        "import matplotlib.pyplot as plt\n",
        "\n",
        "def train_model(model, epoch_num):\n",
        "\n",
        "    earlystop = callbacks.EarlyStopping(monitor='val_loss', min_delta=0.01, patience=2)\n",
        "    checkpointer = callbacks.ModelCheckpoint(filepath=\"temp_weights.h5\", verbose=1, save_best_only=True, save_weights_only=True)\n",
        "  \n",
        "    history = model.fit(train_data.repeat(),\n",
        "                        steps_per_epoch = steps_train,\n",
        "                        epochs = epoch_num,\n",
        "                        validation_data= val_data.repeat(),\n",
        "                        validation_steps = steps_val,\n",
        "                        use_multiprocessing=True,\n",
        "                        callbacks=[checkpointer, earlystop])\n",
        "\n",
        "\n",
        "    plt.plot(history.history['loss'])\n",
        "    plt.plot(history.history['val_loss'])\n",
        "    plt.title('model loss')\n",
        "    plt.ylabel('loss')\n",
        "    plt.xlabel('epoch')\n",
        "    plt.legend(['train', 'test'], loc='upper left')\n",
        "    plt.show()\n",
        "\n",
        "\n",
        "    model.load_weights(\"temp_weights.h5\")\n",
        "    results = model.evaluate(val_data, use_multiprocessing=True, verbose=1)\n",
        "    results = dict(zip(model.metrics_names, results))\n",
        "    print('Result on validation data: ', results)\n",
        "\n",
        "    results = model.evaluate(test_data, use_multiprocessing=True, verbose=1)\n",
        "    results = dict(zip(model.metrics_names, results))\n",
        "    print('Result on test data: ', results)\n",
        "\n",
        "\n",
        "    return model"
      ],
      "execution_count": null,
      "outputs": []
    },
    {
      "cell_type": "code",
      "metadata": {
        "id": "WSFTxfDen6JV"
      },
      "source": [
        "from tensorflow.keras import layers, applications, models, optimizers, losses, metrics, regularizers, callbacks\n",
        "\n",
        "INIT_LR = 0.001\n",
        "FINAL_LR = 1e-6\n",
        "LR_DECAY = (1./(FINAL_LR/INIT_LR) -1)/steps_train\n",
        "def get_lr_metric(optimizer):\n",
        "    def lr(y_true, y_pred):\n",
        "        return optimizer.lr\n",
        "    return lr\n",
        "\n",
        "optimizer = optimizers.Adam(learning_rate=0.0001)\n",
        "loss=losses.sparse_categorical_crossentropy\n",
        "metric = ['accuracy', get_lr_metric(optimizer), tf.keras.metrics.SparseTopKCategoricalAccuracy(3)]\n"
      ],
      "execution_count": null,
      "outputs": []
    },
    {
      "cell_type": "code",
      "metadata": {
        "id": "u7IWd84KoHLs"
      },
      "source": [
        "from tensorflow.keras import layers, applications, models, optimizers, losses, metrics, regularizers, callbacks\n",
        "import tensorflow_hub as hub\n",
        "\n",
        "# constant for model compile\n",
        "loss_fn = losses.sparse_categorical_crossentropy\n",
        "optimizer_fn = optimizers.RMSprop(learning_rate=0.0001)\n",
        "metric_ls = [\"accuracy\", tf.keras.metrics.SparseTopKCategoricalAccuracy(3)]\n",
        "\n",
        "def build_hubnet_text(text_base, trainable=False):\n",
        "    model = models.Sequential()\n",
        "    model.add(hub.KerasLayer(text_base, input_shape=[], dtype=tf.string, trainable=trainable))\n",
        "    model.add(layers.Dense(outdim_size, activation=\"softmax\"))\n",
        "\n",
        "    model.compile(loss=loss_fn, optimizer=optimizer_fn, metrics=metric_ls)\n",
        "\n",
        "    return model"
      ],
      "execution_count": null,
      "outputs": []
    },
    {
      "cell_type": "code",
      "metadata": {
        "id": "ampIi0a8oKv1"
      },
      "source": [
        "model = build_hubnet_text(\"https://tfhub.dev/google/universal-sentence-encoder/4\", False)"
      ],
      "execution_count": null,
      "outputs": []
    },
    {
      "cell_type": "code",
      "metadata": {
        "id": "ZH3327BwoMoL",
        "outputId": "154fb0df-9540-481e-c54a-6ceee214277a",
        "colab": {
          "base_uri": "https://localhost:8080/",
          "height": 1000
        }
      },
      "source": [
        "train_model(model, 25)"
      ],
      "execution_count": null,
      "outputs": [
        {
          "output_type": "stream",
          "text": [
            "Epoch 1/25\n",
            "1091/1093 [============================>.] - ETA: 0s - loss: 2.5775 - accuracy: 0.1923 - sparse_top_k_categorical_accuracy: 0.4484\n",
            "Epoch 00001: val_loss improved from inf to 2.46590, saving model to temp_weights.h5\n",
            "1093/1093 [==============================] - 20s 18ms/step - loss: 2.5774 - accuracy: 0.1921 - sparse_top_k_categorical_accuracy: 0.4485 - val_loss: 2.4659 - val_accuracy: 0.2336 - val_sparse_top_k_categorical_accuracy: 0.5312\n",
            "Epoch 2/25\n",
            "1089/1093 [============================>.] - ETA: 0s - loss: 2.4023 - accuracy: 0.2392 - sparse_top_k_categorical_accuracy: 0.5494\n",
            "Epoch 00002: val_loss improved from 2.46590 to 2.33135, saving model to temp_weights.h5\n",
            "1093/1093 [==============================] - 18s 17ms/step - loss: 2.4022 - accuracy: 0.2390 - sparse_top_k_categorical_accuracy: 0.5493 - val_loss: 2.3313 - val_accuracy: 0.2642 - val_sparse_top_k_categorical_accuracy: 0.5839\n",
            "Epoch 3/25\n",
            "1091/1093 [============================>.] - ETA: 0s - loss: 2.2934 - accuracy: 0.2819 - sparse_top_k_categorical_accuracy: 0.5971\n",
            "Epoch 00003: val_loss improved from 2.33135 to 2.23737, saving model to temp_weights.h5\n",
            "1093/1093 [==============================] - 21s 20ms/step - loss: 2.2935 - accuracy: 0.2818 - sparse_top_k_categorical_accuracy: 0.5971 - val_loss: 2.2374 - val_accuracy: 0.3089 - val_sparse_top_k_categorical_accuracy: 0.6404\n",
            "Epoch 4/25\n",
            "1091/1093 [============================>.] - ETA: 0s - loss: 2.2102 - accuracy: 0.3237 - sparse_top_k_categorical_accuracy: 0.6388\n",
            "Epoch 00004: val_loss improved from 2.23737 to 2.16112, saving model to temp_weights.h5\n",
            "1093/1093 [==============================] - 30s 27ms/step - loss: 2.2103 - accuracy: 0.3237 - sparse_top_k_categorical_accuracy: 0.6388 - val_loss: 2.1611 - val_accuracy: 0.3476 - val_sparse_top_k_categorical_accuracy: 0.6767\n",
            "Epoch 5/25\n",
            "1092/1093 [============================>.] - ETA: 0s - loss: 2.1403 - accuracy: 0.3585 - sparse_top_k_categorical_accuracy: 0.6696\n",
            "Epoch 00005: val_loss improved from 2.16112 to 2.09591, saving model to temp_weights.h5\n",
            "1093/1093 [==============================] - 26s 24ms/step - loss: 2.1403 - accuracy: 0.3585 - sparse_top_k_categorical_accuracy: 0.6695 - val_loss: 2.0959 - val_accuracy: 0.3830 - val_sparse_top_k_categorical_accuracy: 0.7001\n",
            "Epoch 6/25\n",
            "1089/1093 [============================>.] - ETA: 0s - loss: 2.0795 - accuracy: 0.3833 - sparse_top_k_categorical_accuracy: 0.6923\n",
            "Epoch 00006: val_loss improved from 2.09591 to 2.03920, saving model to temp_weights.h5\n",
            "1093/1093 [==============================] - 27s 24ms/step - loss: 2.0797 - accuracy: 0.3831 - sparse_top_k_categorical_accuracy: 0.6922 - val_loss: 2.0392 - val_accuracy: 0.4062 - val_sparse_top_k_categorical_accuracy: 0.7155\n",
            "Epoch 7/25\n",
            "1091/1093 [============================>.] - ETA: 0s - loss: 2.0266 - accuracy: 0.4015 - sparse_top_k_categorical_accuracy: 0.7068\n",
            "Epoch 00007: val_loss improved from 2.03920 to 1.98956, saving model to temp_weights.h5\n",
            "1093/1093 [==============================] - 20s 18ms/step - loss: 2.0267 - accuracy: 0.4015 - sparse_top_k_categorical_accuracy: 0.7068 - val_loss: 1.9896 - val_accuracy: 0.4261 - val_sparse_top_k_categorical_accuracy: 0.7256\n",
            "Epoch 8/25\n",
            "1089/1093 [============================>.] - ETA: 0s - loss: 1.9799 - accuracy: 0.4142 - sparse_top_k_categorical_accuracy: 0.7174\n",
            "Epoch 00008: val_loss improved from 1.98956 to 1.94597, saving model to temp_weights.h5\n",
            "1093/1093 [==============================] - 27s 25ms/step - loss: 1.9801 - accuracy: 0.4141 - sparse_top_k_categorical_accuracy: 0.7173 - val_loss: 1.9460 - val_accuracy: 0.4377 - val_sparse_top_k_categorical_accuracy: 0.7330\n",
            "Epoch 9/25\n",
            "1092/1093 [============================>.] - ETA: 0s - loss: 1.9390 - accuracy: 0.4233 - sparse_top_k_categorical_accuracy: 0.7253\n",
            "Epoch 00009: val_loss improved from 1.94597 to 1.90760, saving model to temp_weights.h5\n",
            "1093/1093 [==============================] - 27s 25ms/step - loss: 1.9390 - accuracy: 0.4233 - sparse_top_k_categorical_accuracy: 0.7252 - val_loss: 1.9076 - val_accuracy: 0.4457 - val_sparse_top_k_categorical_accuracy: 0.7384\n",
            "Epoch 10/25\n",
            "1092/1093 [============================>.] - ETA: 0s - loss: 1.9028 - accuracy: 0.4328 - sparse_top_k_categorical_accuracy: 0.7320\n",
            "Epoch 00010: val_loss improved from 1.90760 to 1.87376, saving model to temp_weights.h5\n",
            "1093/1093 [==============================] - 23s 21ms/step - loss: 1.9028 - accuracy: 0.4328 - sparse_top_k_categorical_accuracy: 0.7320 - val_loss: 1.8738 - val_accuracy: 0.4515 - val_sparse_top_k_categorical_accuracy: 0.7432\n",
            "Epoch 11/25\n",
            "1090/1093 [============================>.] - ETA: 0s - loss: 1.8707 - accuracy: 0.4399 - sparse_top_k_categorical_accuracy: 0.7376\n",
            "Epoch 00011: val_loss improved from 1.87376 to 1.84385, saving model to temp_weights.h5\n",
            "1093/1093 [==============================] - 30s 27ms/step - loss: 1.8708 - accuracy: 0.4398 - sparse_top_k_categorical_accuracy: 0.7377 - val_loss: 1.8438 - val_accuracy: 0.4571 - val_sparse_top_k_categorical_accuracy: 0.7474\n",
            "Epoch 12/25\n",
            "1090/1093 [============================>.] - ETA: 0s - loss: 1.8423 - accuracy: 0.4461 - sparse_top_k_categorical_accuracy: 0.7421\n",
            "Epoch 00012: val_loss improved from 1.84385 to 1.81735, saving model to temp_weights.h5\n",
            "1093/1093 [==============================] - 27s 25ms/step - loss: 1.8424 - accuracy: 0.4460 - sparse_top_k_categorical_accuracy: 0.7421 - val_loss: 1.8174 - val_accuracy: 0.4611 - val_sparse_top_k_categorical_accuracy: 0.7526\n",
            "Epoch 13/25\n",
            "1090/1093 [============================>.] - ETA: 0s - loss: 1.8172 - accuracy: 0.4512 - sparse_top_k_categorical_accuracy: 0.7465\n",
            "Epoch 00013: val_loss improved from 1.81735 to 1.79383, saving model to temp_weights.h5\n",
            "1093/1093 [==============================] - 20s 18ms/step - loss: 1.8172 - accuracy: 0.4511 - sparse_top_k_categorical_accuracy: 0.7465 - val_loss: 1.7938 - val_accuracy: 0.4655 - val_sparse_top_k_categorical_accuracy: 0.7576\n",
            "Epoch 14/25\n",
            "1092/1093 [============================>.] - ETA: 0s - loss: 1.7948 - accuracy: 0.4557 - sparse_top_k_categorical_accuracy: 0.7497\n",
            "Epoch 00014: val_loss improved from 1.79383 to 1.77289, saving model to temp_weights.h5\n",
            "1093/1093 [==============================] - 32s 29ms/step - loss: 1.7948 - accuracy: 0.4557 - sparse_top_k_categorical_accuracy: 0.7497 - val_loss: 1.7729 - val_accuracy: 0.4688 - val_sparse_top_k_categorical_accuracy: 0.7592\n",
            "Epoch 15/25\n",
            "1093/1093 [==============================] - ETA: 0s - loss: 1.7748 - accuracy: 0.4591 - sparse_top_k_categorical_accuracy: 0.7523\n",
            "Epoch 00015: val_loss improved from 1.77289 to 1.75421, saving model to temp_weights.h5\n",
            "1093/1093 [==============================] - 20s 18ms/step - loss: 1.7748 - accuracy: 0.4591 - sparse_top_k_categorical_accuracy: 0.7523 - val_loss: 1.7542 - val_accuracy: 0.4724 - val_sparse_top_k_categorical_accuracy: 0.7622\n",
            "Epoch 16/25\n",
            "1093/1093 [==============================] - ETA: 0s - loss: 1.7569 - accuracy: 0.4619 - sparse_top_k_categorical_accuracy: 0.7549\n",
            "Epoch 00016: val_loss improved from 1.75421 to 1.73751, saving model to temp_weights.h5\n",
            "1093/1093 [==============================] - 27s 25ms/step - loss: 1.7569 - accuracy: 0.4619 - sparse_top_k_categorical_accuracy: 0.7549 - val_loss: 1.7375 - val_accuracy: 0.4766 - val_sparse_top_k_categorical_accuracy: 0.7636\n",
            "Epoch 17/25\n",
            "1093/1093 [==============================] - ETA: 0s - loss: 1.7409 - accuracy: 0.4644 - sparse_top_k_categorical_accuracy: 0.7569\n",
            "Epoch 00017: val_loss improved from 1.73751 to 1.72252, saving model to temp_weights.h5\n",
            "1093/1093 [==============================] - 26s 23ms/step - loss: 1.7409 - accuracy: 0.4644 - sparse_top_k_categorical_accuracy: 0.7569 - val_loss: 1.7225 - val_accuracy: 0.4774 - val_sparse_top_k_categorical_accuracy: 0.7646\n",
            "Epoch 18/25\n",
            "1093/1093 [==============================] - ETA: 0s - loss: 1.7264 - accuracy: 0.4667 - sparse_top_k_categorical_accuracy: 0.7591\n",
            "Epoch 00018: val_loss improved from 1.72252 to 1.70904, saving model to temp_weights.h5\n",
            "1093/1093 [==============================] - 28s 26ms/step - loss: 1.7264 - accuracy: 0.4667 - sparse_top_k_categorical_accuracy: 0.7591 - val_loss: 1.7090 - val_accuracy: 0.4784 - val_sparse_top_k_categorical_accuracy: 0.7660\n",
            "Epoch 19/25\n",
            "1089/1093 [============================>.] - ETA: 0s - loss: 1.7131 - accuracy: 0.4688 - sparse_top_k_categorical_accuracy: 0.7610\n",
            "Epoch 00019: val_loss improved from 1.70904 to 1.69689, saving model to temp_weights.h5\n",
            "1093/1093 [==============================] - 25s 23ms/step - loss: 1.7133 - accuracy: 0.4686 - sparse_top_k_categorical_accuracy: 0.7609 - val_loss: 1.6969 - val_accuracy: 0.4798 - val_sparse_top_k_categorical_accuracy: 0.7674\n",
            "Epoch 20/25\n",
            "1089/1093 [============================>.] - ETA: 0s - loss: 1.7013 - accuracy: 0.4703 - sparse_top_k_categorical_accuracy: 0.7623\n",
            "Epoch 00020: val_loss improved from 1.69689 to 1.68590, saving model to temp_weights.h5\n",
            "1093/1093 [==============================] - 21s 19ms/step - loss: 1.7015 - accuracy: 0.4701 - sparse_top_k_categorical_accuracy: 0.7622 - val_loss: 1.6859 - val_accuracy: 0.4804 - val_sparse_top_k_categorical_accuracy: 0.7676\n",
            "Epoch 21/25\n",
            "1093/1093 [==============================] - ETA: 0s - loss: 1.6908 - accuracy: 0.4719 - sparse_top_k_categorical_accuracy: 0.7637\n",
            "Epoch 00021: val_loss improved from 1.68590 to 1.67593, saving model to temp_weights.h5\n",
            "1093/1093 [==============================] - 30s 27ms/step - loss: 1.6908 - accuracy: 0.4719 - sparse_top_k_categorical_accuracy: 0.7637 - val_loss: 1.6759 - val_accuracy: 0.4810 - val_sparse_top_k_categorical_accuracy: 0.7684\n",
            "Epoch 22/25\n",
            "1091/1093 [============================>.] - ETA: 0s - loss: 1.6810 - accuracy: 0.4733 - sparse_top_k_categorical_accuracy: 0.7649\n",
            "Epoch 00022: val_loss improved from 1.67593 to 1.66687, saving model to temp_weights.h5\n",
            "1093/1093 [==============================] - 27s 24ms/step - loss: 1.6811 - accuracy: 0.4732 - sparse_top_k_categorical_accuracy: 0.7649 - val_loss: 1.6669 - val_accuracy: 0.4826 - val_sparse_top_k_categorical_accuracy: 0.7694\n",
            "Epoch 23/25\n",
            "1092/1093 [============================>.] - ETA: 0s - loss: 1.6722 - accuracy: 0.4749 - sparse_top_k_categorical_accuracy: 0.7666\n",
            "Epoch 00023: val_loss improved from 1.66687 to 1.65862, saving model to temp_weights.h5\n",
            "1093/1093 [==============================] - 26s 24ms/step - loss: 1.6722 - accuracy: 0.4749 - sparse_top_k_categorical_accuracy: 0.7666 - val_loss: 1.6586 - val_accuracy: 0.4836 - val_sparse_top_k_categorical_accuracy: 0.7724\n",
            "Epoch 24/25\n",
            "1089/1093 [============================>.] - ETA: 0s - loss: 1.6638 - accuracy: 0.4762 - sparse_top_k_categorical_accuracy: 0.7682\n",
            "Epoch 00024: val_loss improved from 1.65862 to 1.65107, saving model to temp_weights.h5\n",
            "1093/1093 [==============================] - 20s 18ms/step - loss: 1.6640 - accuracy: 0.4758 - sparse_top_k_categorical_accuracy: 0.7681 - val_loss: 1.6511 - val_accuracy: 0.4836 - val_sparse_top_k_categorical_accuracy: 0.7744\n",
            "Epoch 25/25\n",
            "1092/1093 [============================>.] - ETA: 0s - loss: 1.6565 - accuracy: 0.4771 - sparse_top_k_categorical_accuracy: 0.7692\n",
            "Epoch 00025: val_loss improved from 1.65107 to 1.64416, saving model to temp_weights.h5\n",
            "1093/1093 [==============================] - 31s 28ms/step - loss: 1.6565 - accuracy: 0.4771 - sparse_top_k_categorical_accuracy: 0.7692 - val_loss: 1.6442 - val_accuracy: 0.4838 - val_sparse_top_k_categorical_accuracy: 0.7756\n"
          ],
          "name": "stdout"
        },
        {
          "output_type": "display_data",
          "data": {
            "image/png": "[encoded data removed]",
            "text/plain": [
              "<Figure size 432x288 with 1 Axes>"
            ]
          },
          "metadata": {
            "tags": [],
            "needs_background": "light"
          }
        },
        {
          "output_type": "stream",
          "text": [
            "156/156 [==============================] - 2s 12ms/step - loss: 1.6442 - accuracy: 0.4838 - sparse_top_k_categorical_accuracy: 0.7756\n",
            "Result on validation data:  {'loss': 1.6441632509231567, 'accuracy': 0.4837740361690521, 'sparse_top_k_categorical_accuracy': 0.7756410241127014}\n",
            "312/312 [==============================] - 4s 12ms/step - loss: 1.6579 - accuracy: 0.4757 - sparse_top_k_categorical_accuracy: 0.7631\n",
            "Result on test data:  {'loss': 1.6578705310821533, 'accuracy': 0.4756610691547394, 'sparse_top_k_categorical_accuracy': 0.7631210088729858}\n"
          ],
          "name": "stdout"
        },
        {
          "output_type": "execute_result",
          "data": {
            "text/plain": [
              "<tensorflow.python.keras.engine.sequential.Sequential at 0x7f8311fe5f28>"
            ]
          },
          "metadata": {
            "tags": []
          },
          "execution_count": 11
        }
      ]
    },
    {
      "cell_type": "code",
      "metadata": {
        "id": "_oY71KTLoZI2",
        "outputId": "2731d2d1-55b6-40a0-8436-b53bc77346e4",
        "colab": {
          "base_uri": "https://localhost:8080/",
          "height": 255
        }
      },
      "source": [
        "model_lstm = models.Sequential()\n",
        "model_lstm.add(layers.Input(shape=max_len))\n",
        "model_lstm.add(layers.Embedding(vocab_size, max_len))\n",
        "model_lstm.add(layers.LSTM(256))\n",
        "model_lstm.add(layers.Dense(outdim_size, activation='softmax'))\n",
        "model_lstm.compile(loss=loss, optimizer=optimizer, metrics=metric)\n",
        "model_lstm.summary()"
      ],
      "execution_count": null,
      "outputs": [
        {
          "output_type": "stream",
          "text": [
            "Model: \"sequential_1\"\n",
            "_________________________________________________________________\n",
            "Layer (type)                 Output Shape              Param #   \n",
            "=================================================================\n",
            "embedding (Embedding)        (None, 100, 100)          1566000   \n",
            "_________________________________________________________________\n",
            "lstm (LSTM)                  (None, 256)               365568    \n",
            "_________________________________________________________________\n",
            "dense_1 (Dense)              (None, 15)                3855      \n",
            "=================================================================\n",
            "Total params: 1,935,423\n",
            "Trainable params: 1,935,423\n",
            "Non-trainable params: 0\n",
            "_________________________________________________________________\n"
          ],
          "name": "stdout"
        }
      ]
    },
    {
      "cell_type": "code",
      "metadata": {
        "id": "gtvQ343x-mx7"
      },
      "source": [
        "train_data, val_data, test_data = load_data(True, False)"
      ],
      "execution_count": null,
      "outputs": []
    },
    {
      "cell_type": "code",
      "metadata": {
        "id": "LYErkM58o9vJ",
        "outputId": "56a92bae-3d39-4270-c109-7cb2dce8a537",
        "colab": {
          "base_uri": "https://localhost:8080/",
          "height": 1000
        }
      },
      "source": [
        "train_model(model_lstm, 25)"
      ],
      "execution_count": null,
      "outputs": [
        {
          "output_type": "stream",
          "text": [
            "Epoch 1/25\n",
            "1093/1093 [==============================] - ETA: 0s - loss: 2.5174 - accuracy: 0.1687 - lr: 1.0000e-04 - sparse_top_k_categorical_accuracy: 0.3856\n",
            "Epoch 00001: val_loss improved from inf to 2.47153, saving model to temp_weights.h5\n",
            "1093/1093 [==============================] - 31s 29ms/step - loss: 2.5174 - accuracy: 0.1687 - lr: 1.0000e-04 - sparse_top_k_categorical_accuracy: 0.3856 - val_loss: 2.4715 - val_accuracy: 0.1759 - val_lr: 1.0000e-04 - val_sparse_top_k_categorical_accuracy: 0.4255\n",
            "Epoch 2/25\n",
            "1092/1093 [============================>.] - ETA: 0s - loss: 2.3772 - accuracy: 0.1958 - lr: 1.0000e-04 - sparse_top_k_categorical_accuracy: 0.4514\n",
            "Epoch 00002: val_loss improved from 2.47153 to 2.24810, saving model to temp_weights.h5\n",
            "1093/1093 [==============================] - 29s 27ms/step - loss: 2.3770 - accuracy: 0.1958 - lr: 1.0000e-04 - sparse_top_k_categorical_accuracy: 0.4516 - val_loss: 2.2481 - val_accuracy: 0.2380 - val_lr: 1.0000e-04 - val_sparse_top_k_categorical_accuracy: 0.5070\n",
            "Epoch 3/25\n",
            "1093/1093 [==============================] - ETA: 0s - loss: 2.1861 - accuracy: 0.2427 - lr: 1.0000e-04 - sparse_top_k_categorical_accuracy: 0.5350\n",
            "Epoch 00003: val_loss improved from 2.24810 to 2.18135, saving model to temp_weights.h5\n",
            "1093/1093 [==============================] - 29s 27ms/step - loss: 2.1861 - accuracy: 0.2427 - lr: 1.0000e-04 - sparse_top_k_categorical_accuracy: 0.5350 - val_loss: 2.1814 - val_accuracy: 0.2454 - val_lr: 1.0000e-04 - val_sparse_top_k_categorical_accuracy: 0.5457\n",
            "Epoch 4/25\n",
            "1092/1093 [============================>.] - ETA: 0s - loss: 2.0808 - accuracy: 0.2642 - lr: 1.0000e-04 - sparse_top_k_categorical_accuracy: 0.5957\n",
            "Epoch 00004: val_loss improved from 2.18135 to 2.07951, saving model to temp_weights.h5\n",
            "1093/1093 [==============================] - 30s 27ms/step - loss: 2.0806 - accuracy: 0.2642 - lr: 1.0000e-04 - sparse_top_k_categorical_accuracy: 0.5958 - val_loss: 2.0795 - val_accuracy: 0.2760 - val_lr: 1.0000e-04 - val_sparse_top_k_categorical_accuracy: 0.5958\n",
            "Epoch 5/25\n",
            "1093/1093 [==============================] - ETA: 0s - loss: 1.9203 - accuracy: 0.3168 - lr: 1.0000e-04 - sparse_top_k_categorical_accuracy: 0.6760\n",
            "Epoch 00005: val_loss improved from 2.07951 to 1.95325, saving model to temp_weights.h5\n",
            "1093/1093 [==============================] - 29s 27ms/step - loss: 1.9203 - accuracy: 0.3168 - lr: 1.0000e-04 - sparse_top_k_categorical_accuracy: 0.6760 - val_loss: 1.9532 - val_accuracy: 0.3335 - val_lr: 1.0000e-04 - val_sparse_top_k_categorical_accuracy: 0.6562\n",
            "Epoch 6/25\n",
            "1093/1093 [==============================] - ETA: 0s - loss: 1.7415 - accuracy: 0.4032 - lr: 1.0000e-04 - sparse_top_k_categorical_accuracy: 0.7407\n",
            "Epoch 00006: val_loss improved from 1.95325 to 1.81959, saving model to temp_weights.h5\n",
            "1093/1093 [==============================] - 29s 27ms/step - loss: 1.7415 - accuracy: 0.4032 - lr: 1.0000e-04 - sparse_top_k_categorical_accuracy: 0.7407 - val_loss: 1.8196 - val_accuracy: 0.3974 - val_lr: 1.0000e-04 - val_sparse_top_k_categorical_accuracy: 0.7105\n",
            "Epoch 7/25\n",
            "1092/1093 [============================>.] - ETA: 0s - loss: 1.5927 - accuracy: 0.4647 - lr: 1.0000e-04 - sparse_top_k_categorical_accuracy: 0.7834\n",
            "Epoch 00007: val_loss improved from 1.81959 to 1.78682, saving model to temp_weights.h5\n",
            "1093/1093 [==============================] - 29s 27ms/step - loss: 1.5927 - accuracy: 0.4647 - lr: 1.0000e-04 - sparse_top_k_categorical_accuracy: 0.7833 - val_loss: 1.7868 - val_accuracy: 0.4209 - val_lr: 1.0000e-04 - val_sparse_top_k_categorical_accuracy: 0.7202\n",
            "Epoch 8/25\n",
            "1093/1093 [==============================] - ETA: 0s - loss: 1.4831 - accuracy: 0.5142 - lr: 1.0000e-04 - sparse_top_k_categorical_accuracy: 0.8124\n",
            "Epoch 00008: val_loss improved from 1.78682 to 1.75462, saving model to temp_weights.h5\n",
            "1093/1093 [==============================] - 30s 27ms/step - loss: 1.4831 - accuracy: 0.5142 - lr: 1.0000e-04 - sparse_top_k_categorical_accuracy: 0.8124 - val_loss: 1.7546 - val_accuracy: 0.4363 - val_lr: 1.0000e-04 - val_sparse_top_k_categorical_accuracy: 0.7216\n",
            "Epoch 9/25\n",
            "1093/1093 [==============================] - ETA: 0s - loss: 1.3929 - accuracy: 0.5515 - lr: 1.0000e-04 - sparse_top_k_categorical_accuracy: 0.8309\n",
            "Epoch 00009: val_loss improved from 1.75462 to 1.74779, saving model to temp_weights.h5\n",
            "1093/1093 [==============================] - 29s 27ms/step - loss: 1.3929 - accuracy: 0.5515 - lr: 1.0000e-04 - sparse_top_k_categorical_accuracy: 0.8309 - val_loss: 1.7478 - val_accuracy: 0.4387 - val_lr: 1.0000e-04 - val_sparse_top_k_categorical_accuracy: 0.7246\n",
            "Epoch 10/25\n",
            "1092/1093 [============================>.] - ETA: 0s - loss: 1.3313 - accuracy: 0.5773 - lr: 1.0000e-04 - sparse_top_k_categorical_accuracy: 0.8433\n",
            "Epoch 00010: val_loss did not improve from 1.74779\n",
            "1093/1093 [==============================] - 30s 27ms/step - loss: 1.3313 - accuracy: 0.5773 - lr: 1.0000e-04 - sparse_top_k_categorical_accuracy: 0.8433 - val_loss: 1.7756 - val_accuracy: 0.4491 - val_lr: 1.0000e-04 - val_sparse_top_k_categorical_accuracy: 0.7300\n"
          ],
          "name": "stdout"
        },
        {
          "output_type": "display_data",
          "data": {
            "image/png": "[encoded data removed]",
            "text/plain": [
              "<Figure size 432x288 with 1 Axes>"
            ]
          },
          "metadata": {
            "tags": [],
            "needs_background": "light"
          }
        },
        {
          "output_type": "stream",
          "text": [
            "156/156 [==============================] - 1s 4ms/step - loss: 1.7478 - accuracy: 0.4387 - lr: 1.0000e-04 - sparse_top_k_categorical_accuracy: 0.7246\n",
            "Result on validation data:  {'loss': 1.7477893829345703, 'accuracy': 0.43870192766189575, 'lr': 9.999988105846569e-05, 'sparse_top_k_categorical_accuracy': 0.7245593070983887}\n",
            "312/312 [==============================] - 2s 5ms/step - loss: 1.7340 - accuracy: 0.4426 - lr: 1.0000e-04 - sparse_top_k_categorical_accuracy: 0.7214\n",
            "Result on test data:  {'loss': 1.7340466976165771, 'accuracy': 0.44260817766189575, 'lr': 9.999985195463523e-05, 'sparse_top_k_categorical_accuracy': 0.7213541865348816}\n"
          ],
          "name": "stdout"
        },
        {
          "output_type": "execute_result",
          "data": {
            "text/plain": [
              "<tensorflow.python.keras.engine.sequential.Sequential at 0x7f6a5884f9e8>"
            ]
          },
          "metadata": {
            "tags": []
          },
          "execution_count": 14
        }
      ]
    },
    {
      "cell_type": "code",
      "metadata": {
        "id": "hqDykc8lg80E"
      },
      "source": [
        "import matplotlib.pyplot as plt\n",
        "from sklearn.decomposition import PCA\n",
        "from sklearn.discriminant_analysis import LinearDiscriminantAnalysis as LDA\n",
        "\n",
        "from sklearn.manifold import TSNE\n",
        "%matplotlib inline\n",
        "import matplotlib.pyplot as plt\n",
        "from mpl_toolkits.mplot3d import Axes3D\n",
        "import seaborn as sns"
      ],
      "execution_count": null,
      "outputs": []
    },
    {
      "cell_type": "code",
      "metadata": {
        "id": "QGTQ5MEZM_KW"
      },
      "source": [
        "def load_cat(newdata, tfrecord_path = \"new.tfrecord\", keras_hub=False):\n",
        "    data = load_csv()\n",
        "    token, _ = get_token(data[0].Descriptions)\n",
        "    \n",
        "    dataset = []\n",
        "    for i in range(outdim_size):\n",
        "        tfrecord_path = \"test_cat\"+str(i)+\".tfrecord\"\n",
        "        write_tfrecord(newdata[i], token, tfrecord_path, keras_hub)\n",
        "        dataset.append(get_dataset(tfrecord_path, keras_hub))\n",
        "\n",
        "    return dataset"
      ],
      "execution_count": null,
      "outputs": []
    },
    {
      "cell_type": "code",
      "metadata": {
        "id": "alWX9ZUE8hOn",
        "outputId": "1faee22c-8a9b-4881-bc49-6ca0543828e4",
        "colab": {
          "base_uri": "https://localhost:8080/"
        }
      },
      "source": [
        "tedf = pd.read_csv(csv_path, header = 0, index_col = 0, encoding='latin1')\n",
        "cat_tup = tedf.groupby([\"cat_id\", \"Genre\"]).count().index.values\n",
        "cat_dict=dict() \n",
        "for cat_id,cat in cat_tup: \n",
        "    cat_dict[cat_id] = cat\n",
        "print(cat_dict)"
      ],
      "execution_count": null,
      "outputs": [
        {
          "output_type": "stream",
          "text": [
            "{0: 'Adventure', 1: 'Arcade', 2: 'Fighting', 3: 'Indie', 4: 'Music', 5: 'Pinball', 6: 'Platform', 7: 'Puzzle', 8: 'Quiz/Trivia', 9: 'Racing', 10: 'Role-playing(RPG)', 11: 'Shooter', 12: 'Simulator', 13: 'Sport', 14: 'Strategy'}\n"
          ],
          "name": "stdout"
        }
      ]
    },
    {
      "cell_type": "code",
      "metadata": {
        "id": "g4jNrxsmWbHe",
        "outputId": "4f0d4501-4ef5-4fa5-cb82-63398149b0e6",
        "colab": {
          "base_uri": "https://localhost:8080/"
        }
      },
      "source": [
        "_,_,df = load_csv() # load train data \n",
        "#df = tedf\n",
        "print(\"...df loaded\")\n",
        "BATCH_SIZE = 32\n",
        "results = []\n",
        "newdata = []\n",
        "\n",
        "# seperate data based on category\n",
        "for i in range(outdim_size):\n",
        "  newdata.append(df[df.cat_id==i])\n",
        "\n",
        "# write tfrecord file and load dataset outdim_siz number of dataset\n",
        "dataset = load_cat(newdata, keras_hub=True)\n",
        "print(\"...dataset loaded\")"
      ],
      "execution_count": null,
      "outputs": [
        {
          "output_type": "stream",
          "text": [
            "...df loaded\n",
            "...dataset loaded\n"
          ],
          "name": "stdout"
        }
      ]
    },
    {
      "cell_type": "code",
      "metadata": {
        "id": "SPLhR7Y1WcVz"
      },
      "source": [
        "cat_sample_size = df.groupby([\"Genre\", \"cat_id\"]).count().Descriptions\n",
        "\n",
        "from collections import Counter\n",
        "\n",
        "# each iteration the below code will count the predic and apend in the prediction list\n",
        "pred_count = []\n",
        "# list of dataframe that contains the prediction layer for each category\n",
        "prob_df_list = []\n",
        "for i in range(outdim_size):\n",
        "  steps = cat_sample_size[i] // 32\n",
        "  prob_y = model.predict(dataset[i].repeat(), steps=steps)\n",
        "  pred_y = tf.argmax(prob_y, 1)\n",
        "  pred_count.append(Counter(pred_y.numpy()))\n",
        "\n",
        "  feat_cols = ['f'+str(k) for k in range(prob_y.shape[1])]\n",
        "  prob_df = pd.DataFrame(prob_y,columns=feat_cols)\n",
        "  prob_df[\"genre\"] = [cat_dict[i] for k in range(prob_y.shape[0])]\n",
        "  prob_df_list.append(prob_df)\n",
        "\n",
        "# put all the predict into confusion matrix where row is truth value\n",
        "conf_mat = pd.DataFrame(pred_count, columns=range(outdim_size))\n",
        "conf_mat.fillna(0, inplace=True)\n",
        "\n",
        "# prediction layer with true category\n",
        "prob_df = pd.concat(prob_df_list, ignore_index=True, sort=False)"
      ],
      "execution_count": null,
      "outputs": []
    },
    {
      "cell_type": "code",
      "metadata": {
        "id": "SJh7PftMWcfy",
        "outputId": "8fd1dc73-3830-44e1-d16d-88461a57d76e",
        "colab": {
          "base_uri": "https://localhost:8080/",
          "height": 652
        }
      },
      "source": [
        "df_cm = pd.DataFrame(conf_mat.values.astype(int), cat_dict.values(), cat_dict.values())\n",
        "plt.figure(figsize=(14,10))\n",
        "sns.set(font_scale=1) # for label size\n",
        "sns.heatmap(df_cm, annot=True,fmt='d', annot_kws={\"size\": 8}, cmap=\"OrRd\") # font size\n",
        "\n",
        "plt.savefig(\"filename.png\")\n",
        "plt.show()"
      ],
      "execution_count": null,
      "outputs": [
        {
          "output_type": "display_data",
          "data": {
            "image/png": "[encoded data removed]",
            "text/plain": [
              "<Figure size 1008x720 with 2 Axes>"
            ]
          },
          "metadata": {
            "tags": [],
            "needs_background": "light"
          }
        }
      ]
    },
    {
      "cell_type": "code",
      "metadata": {
        "id": "NnvHkXdBc87q",
        "outputId": "95c12e69-9fbb-481a-9ec1-0d5b3043b1e0",
        "colab": {
          "base_uri": "https://localhost:8080/"
        }
      },
      "source": [
        "print('Universal Sentence Encoder accuracy by genre:')\n",
        "for i in range(outdim_size):\n",
        "  acc = conf_mat.values[i,i]/sum(conf_mat.loc[i,:])\n",
        "  print(cat_dict[i],\" (\",str(i), \"): \",  str(acc*100), \" %\")"
      ],
      "execution_count": null,
      "outputs": [
        {
          "output_type": "stream",
          "text": [
            "Universal Sentence Encoder accuracy by genre:\n",
            "Adventure  ( 0 ):  62.99019607843137  %\n",
            "Arcade  ( 1 ):  2.556818181818182  %\n",
            "Fighting  ( 2 ):  52.708333333333336  %\n",
            "Indie  ( 3 ):  30.77651515151515  %\n",
            "Music  ( 4 ):  54.6875  %\n",
            "Pinball  ( 5 ):  56.25  %\n",
            "Platform  ( 6 ):  30.03472222222222  %\n",
            "Puzzle  ( 7 ):  43.75  %\n",
            "Quiz/Trivia  ( 8 ):  1.5625  %\n",
            "Racing  ( 9 ):  66.40625  %\n",
            "Role-playing(RPG)  ( 10 ):  38.04347826086957  %\n",
            "Shooter  ( 11 ):  58.293269230769226  %\n",
            "Simulator  ( 12 ):  35.67708333333333  %\n",
            "Sport  ( 13 ):  71.875  %\n",
            "Strategy  ( 14 ):  52.41071428571429  %\n"
          ],
          "name": "stdout"
        }
      ]
    }
  ]
}